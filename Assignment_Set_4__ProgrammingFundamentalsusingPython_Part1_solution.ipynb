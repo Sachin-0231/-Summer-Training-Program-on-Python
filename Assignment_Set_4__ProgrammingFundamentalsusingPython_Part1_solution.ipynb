{
  "nbformat": 4,
  "nbformat_minor": 0,
  "metadata": {
    "colab": {
      "provenance": [],
      "authorship_tag": "ABX9TyNXwtdHEbuQd0OKpR/uCuUK",
      "include_colab_link": true
    },
    "kernelspec": {
      "name": "python3",
      "display_name": "Python 3"
    },
    "language_info": {
      "name": "python"
    }
  },
  "cells": [
    {
      "cell_type": "markdown",
      "metadata": {
        "id": "view-in-github",
        "colab_type": "text"
      },
      "source": [
        "<a href=\"https://colab.research.google.com/github/Sachin-0231/Infosys-Summer-Training-Program-on-Python/blob/main/Assignment_Set_4__ProgrammingFundamentalsusingPython_Part1_solution.ipynb\" target=\"_parent\"><img src=\"https://colab.research.google.com/assets/colab-badge.svg\" alt=\"Open In Colab\"/></a>"
      ]
    },
    {
      "cell_type": "markdown",
      "source": [
        "##Assignment on String - Level 1 (Puzzle)"
      ],
      "metadata": {
        "id": "BSuWFgsK6Zy9"
      }
    },
    {
      "cell_type": "markdown",
      "source": [
        "###Problem Statement\n",
        "Write a python program to display all the common characters between two strings. Return -1 if there are no matching characters.\n",
        "\n",
        "Note: Ignore blank spaces if there are any. Perform case sensitive string comparison wherever necessary.\n",
        "\n",
        "Sample Input\n",
        "\n",
        "Expected output\n",
        "\n",
        "\"I like Python\"\n",
        "\"Java is a very popular language\"\n",
        "\n",
        "lieyon\n",
        "\n"
      ],
      "metadata": {
        "id": "lKHgg-Tz6gUt"
      }
    },
    {
      "cell_type": "code",
      "source": [
        "\n",
        "#lex_auth_012693825794351104168\n",
        "\n",
        "def find_common_characters(msg1,msg2):\n",
        "    #Remove pass and write your logic here\n",
        "    res=''\n",
        "    for i in msg1:\n",
        "        if i in msg2 and i not in res:\n",
        "            res+=i\n",
        "    if len(res) == 0:\n",
        "        res=-1\n",
        "    return res\n",
        "\n",
        "#Provide different values for msg1,msg2 and test your program\n",
        "msg1=\"I like Python\"\n",
        "msg2=\"Java is a very popular language\"\n",
        "common_characters=find_common_characters(msg1,msg2)\n",
        "print(common_characters)"
      ],
      "metadata": {
        "id": "hqAtuRVm6oM-"
      },
      "execution_count": null,
      "outputs": []
    },
    {
      "cell_type": "markdown",
      "source": [
        "##Assignment on String - Level 2 (Puzzle)"
      ],
      "metadata": {
        "id": "uj-L5UHZ67_-"
      }
    },
    {
      "cell_type": "markdown",
      "source": [
        "###Problem Statement\n",
        "Write a python function, encrypt_sentence() which accepts a message and encrypts it based on rules given below and returns the encrypted message.\n",
        "Words at odd position -> Reverse It\n",
        "Words at even position -> Rearrange the characters so that all consonants appear before the vowels and their order should not change\n",
        "\n",
        "Note:\n",
        "\n",
        "Assume that the sentence would begin with a word and there will be only a single space between the words.\n",
        "\n",
        "Perform case sensitive string operations wherever necessary.\n",
        "\n",
        "Sample Input\n",
        "\n",
        "Expected Output\n",
        "\n",
        "the sun rises in the east\n",
        "\n",
        "eht snu sesir ni eht stea\n",
        "\n"
      ],
      "metadata": {
        "id": "VvMF3muk6-ul"
      }
    },
    {
      "cell_type": "code",
      "source": [
        "\n",
        "#lex_auth_01269444195664691284\n",
        "\n",
        "def encrypt_sentence(sentence):\n",
        "    #start writing your code here\n",
        "    res=''\n",
        "    count=0\n",
        "    for i in sentence.split():\n",
        "        if count%2 == 0:\n",
        "            res += i[::-1]+' '\n",
        "        else:\n",
        "            vowels=''\n",
        "            consonts=''\n",
        "            for j in i:\n",
        "                if j.lower() in ['a','e','i','o','u']:\n",
        "                    vowels+=j\n",
        "                else:\n",
        "                    consonts+=j\n",
        "            res += consonts+vowels+' '\n",
        "        count += 1\n",
        "    return res.strip()\n",
        "\n",
        "sentence=\"The sun rises in the east\"\n",
        "encrypted_sentence=encrypt_sentence(sentence)\n",
        "print(encrypted_sentence)"
      ],
      "metadata": {
        "id": "Z_D5NAFf7CCc"
      },
      "execution_count": null,
      "outputs": []
    },
    {
      "cell_type": "markdown",
      "source": [
        "##Assignment on Dictionary - Level 2\n",
        "\n",
        "###Problem Statement\n",
        "Write a python function, find_correct() which accepts a dictionary and returns a list as per the rules mentioned below.\n",
        "The input dictionary will contain correct spelling of a word as key and the spelling provided by a contestant as the value.\n",
        "\n",
        "The function should identify the degree of correctness as mentioned below:\n",
        "CORRECT, if it is an exact match\n",
        "ALMOST CORRECT, if no more than 2 letters are wrong\n",
        "WRONG, if more than 2 letters are wrong or if length (correct spelling versus spelling given by contestant) mismatches.\n",
        "\n",
        "and return a list containing the number of CORRECT answers, number of ALMOST CORRECT answers and number of WRONG answers.\n",
        "Assume that the words contain only uppercase letters and the maximum word length is 10.\n",
        "\n",
        "Sample Input\n",
        "\n",
        "Expected Output\n",
        "\n",
        "{\"THEIR\": \"THEIR\", \"BUSINESS\": \"BISINESS\",\"WINDOWS\":\"WINDMILL\",\"WERE\":\"WEAR\",\"SAMPLE\":\"SAMPLE\"}\n",
        "\n",
        "[2, 2, 1]\n",
        "\n"
      ],
      "metadata": {
        "id": "qmuTbZUb7KAd"
      }
    },
    {
      "cell_type": "code",
      "source": [
        "#lex_auth_01269444890062848087\n",
        "\n",
        "def find_correct(word_dict):\n",
        "    #start writing your code here\n",
        "    res=[0,0,0]\n",
        "    for x,y in word_dict.items():\n",
        "        if x == y:\n",
        "            res[0] += 1\n",
        "        elif len(x) == len(y):\n",
        "            count=0\n",
        "            for i in range(len(x)):\n",
        "                if x[i] != y[i]:\n",
        "                    count += 1\n",
        "            if count <= 2:\n",
        "                res[1] += 1\n",
        "            else:\n",
        "                res[2] += 1\n",
        "        else:\n",
        "            res[2] += 1\n",
        "    return res\n",
        "\n",
        "\n",
        "word_dict={\"THEIR\": \"THEIR\",\"BUSINESS\":\"BISINESS\",\"WINDOWS\":\"WINDMILL\",\"WERE\":\"WEAR\",\"SAMPLE\":\"SAMPLE\"}\n",
        "print(find_correct(word_dict))"
      ],
      "metadata": {
        "id": "ZtCIPWEW7Y3u"
      },
      "execution_count": null,
      "outputs": []
    },
    {
      "cell_type": "markdown",
      "source": [
        "##Assignment on Dictionary - Level 3"
      ],
      "metadata": {
        "id": "yHyb2gcH7hmm"
      }
    },
    {
      "cell_type": "markdown",
      "source": [
        "###Problem Statement\n",
        "Care hospital wants to know the medical speciality visited by the maximum number of patients. Assume that the patient id of the patient along with the medical speciality visited by the patient is stored in a list. The details of the medical specialities are stored in a dictionary as follows:\n",
        "{\n",
        "\"P\":\"Pediatrics\",\n",
        "\"O\":\"Orthopedics\",\n",
        "\"E\":\"ENT\n",
        "}\n",
        "\n",
        "Write a function to find the medical speciality visited by the maximum number of patients and return the name of the speciality.\n",
        "\n",
        "Note:\n",
        "\n",
        "Assume that there is always only one medical speciality which is visited by maximum number of patients.\n",
        "\n",
        "Perform case sensitive string comparison wherever necessary.\n",
        "\n",
        "Sample Input\n",
        "\n",
        "Expected Output\n",
        "\n",
        "[101,P,102,O,302,P,305,P]\n",
        "\n",
        "Pediatrics\n",
        "\n",
        "[101,O,102,O,302,P,305,E,401,O,656,O]\n",
        "\n",
        "Orthopedics\n",
        "\n",
        "[101,O,102,E,302,P,305,P,401,E,656,O,987,E]\n",
        "\n",
        "ENT\n",
        "\n"
      ],
      "metadata": {
        "id": "5NSUDIpT7mQ0"
      }
    },
    {
      "cell_type": "code",
      "source": [
        "\n",
        "#lex_auth_012693816757551104165\n",
        "\n",
        "def max_visited_speciality(patient_medical_speciality_list,medical_speciality):\n",
        "    # write your logic here\n",
        "    p=o=e=0\n",
        "    for i in range(1,len(patient_medical_speciality_list),2):\n",
        "        if patient_medical_speciality_list[i]=='P':\n",
        "            p=p+1\n",
        "        elif patient_medical_speciality_list[i]=='O':\n",
        "            o=o+1\n",
        "        elif patient_medical_speciality_list[i]=='E':\n",
        "            e=e+1\n",
        "    if p>e and p>o:\n",
        "        max=p\n",
        "    elif e>p and e>o:\n",
        "        max=e\n",
        "    else:\n",
        "        max=o\n",
        "    if max==p:\n",
        "        speciality=\"Pediatrics\"\n",
        "    elif max==e:\n",
        "        speciality=\"ENT\"\n",
        "    else:\n",
        "        speciality=\"Orthopedics\"\n",
        "\n",
        "    return speciality\n",
        "\n",
        "#provide different values in the list and test your program\n",
        "patient_medical_speciality_list=[301,'P',302, 'P' ,305, 'P' ,401, 'E' ,656, 'E']\n",
        "medical_speciality={\"P\":\"Pediatrics\",\"O\":\"Orthopedics\",\"E\":\"ENT\"}\n",
        "speciality=max_visited_speciality(patient_medical_speciality_list,medical_speciality)\n",
        "print(speciality)\n",
        "\n",
        "patient_medical_speciality_list=[101, 'O', 102, 'O', 302, 'P', 305, 'E', 401, 'O', 656, 'P']\n",
        "medical_speciality={'O': 'Orthopedics', 'E': 'ENT', 'P': 'Pediatrics'}\n",
        "speciality=max_visited_speciality(patient_medical_speciality_list,medical_speciality)\n",
        "print(speciality)"
      ],
      "metadata": {
        "id": "DBWJa1PC72-O"
      },
      "execution_count": null,
      "outputs": []
    },
    {
      "cell_type": "markdown",
      "source": [
        "##Assignment on String - Level 3\n",
        "\n",
        "###Problem Statement\n",
        "Write python function, sms_encoding() which accepts a sentence and converts it into an abbreviated sentence to be sent as SMS and returns the abbreviated sentence.\n",
        "\n",
        "Rules are as follows:\n",
        "a. Spaces are to be retained as is\n",
        "b. Each word should be encoded separately\n",
        "\n",
        "If a word has only vowels then retain the word as is\n",
        "\n",
        "If a word has a consonant (at least 1) then retain only those consonants\n",
        "\n",
        "Note: Assume that the sentence would begin with a word and there will be only a single space between the words.\n",
        "\n",
        "Sample Input\n",
        "\n",
        "Expected Output\n",
        "\n",
        "I love Python\n",
        "\n",
        "I lv Pythn\n",
        "\n",
        "MSD says I love cricket and tennis too\n",
        "\n",
        "MSD sys I lv crckt nd tnns t\n",
        "\n",
        "I will not repeat mistakes\n",
        "\n",
        "I wll nt rpt mstks\n",
        "\n",
        ""
      ],
      "metadata": {
        "id": "7g1CNAUI74tN"
      }
    },
    {
      "cell_type": "code",
      "source": [
        "\n",
        "#lex_auth_01269444961482342489\n",
        "\n",
        "def sms_encoding(data):\n",
        "    #start writing your code here\n",
        "    word=data.split()\n",
        "    vowels=\"aeiouAEIOU\"\n",
        "    st=\"\"\n",
        "    for i in word:\n",
        "        if(len(i)==1):\n",
        "            st=st+i\n",
        "        else:\n",
        "            for j in i:\n",
        "                if j not in set(vowels): #consonant\n",
        "                    st=st+j\n",
        "        st=st+\" \"\n",
        "    return st[0:-1]\n",
        "\n",
        "data=\"I love Python\"\n",
        "print(sms_encoding(data))"
      ],
      "metadata": {
        "id": "dCfm5_oD8Amk"
      },
      "execution_count": null,
      "outputs": []
    },
    {
      "cell_type": "markdown",
      "source": [
        "##Assignment on Dictionary - Level 3 (Puzzle)\n",
        "\n",
        "###Problem Statement\n",
        "Write a python program that accepts a text and displays a string which contains the word with the largest frequency in the text and the frequency itself separated by a space.\n",
        "\n",
        "Rules:\n",
        "\n",
        "The word should have the largest frequency.\n",
        "\n",
        "In case multiple words have the same frequency, then choose the word that has the maximum length.\n",
        "\n",
        "Assumptions:\n",
        "\n",
        "The text has no special characters other than space.\n",
        "\n",
        "The text would begin with a word and there will be only a single space between the words.\n",
        "\n",
        "Perform case insensitive string comparisons wherever necessary.\n",
        "\n",
        "Sample Input\n",
        "\n",
        "Expected Output\n",
        "\n",
        "\"Work like you do not need money love like you have never been hurt and dance like no one is watching\"\n",
        "\n",
        "like 3\n",
        "\n",
        "\"Courage is not the absence of fear but rather the judgement that something else is more important than fear\"\n",
        "\n",
        "fear 2"
      ],
      "metadata": {
        "id": "_DpDOHH18Mkc"
      }
    },
    {
      "cell_type": "code",
      "source": [
        "#lex_auth_0127382283825971201450\n",
        "\n",
        "def max_frequency_word_counter(data):\n",
        "    word=\"\"\n",
        "    frequency=0\n",
        "\n",
        "    #start writing your code here\n",
        "    #Populate the variables: word and frequency\n",
        "    word=\"\"\n",
        "    frequency=0\n",
        "\n",
        "    #start writing your code here\n",
        "    #Populate the variables: word and frequency\n",
        "    dict={}\n",
        "    data1=data.lower()\n",
        "    list=data1.split()\n",
        "    my_set=set(list)\n",
        "    list2=[]\n",
        "    for i in my_set:\n",
        "        dict[i]=list.count(i)\n",
        "\n",
        "    max=0\n",
        "\n",
        "    for key,value in dict.items():\n",
        "        if max<dict[key]:\n",
        "            max=dict[key]\n",
        "    #list3=[]\n",
        "    list2=[]\n",
        "    frequency=max\n",
        "    for key,value in dict.items():\n",
        "        if max==dict[key]:\n",
        "            list2.append(key)\n",
        "\n",
        "    word=list2[0]\n",
        "    for i in range(1,len(list2)):\n",
        "        if len(word)<len(list2[i]):\n",
        "            word=list2[i]\n",
        "\n",
        "    print(word,frequency)\n",
        "    # Use the below given print statements to display the output\n",
        "    # Also, do not modify them for verification to work\n",
        "    #print(word,frequency)\n",
        "\n",
        "\n",
        "#Provide different values for data and test your program.\n",
        "data=\"Work like you do not need money, love like you have never been hurt, and dance like no one is watching\"\n",
        "max_frequency_word_counter(data)"
      ],
      "metadata": {
        "id": "Xq6sABnU8R7k"
      },
      "execution_count": null,
      "outputs": []
    }
  ]
}