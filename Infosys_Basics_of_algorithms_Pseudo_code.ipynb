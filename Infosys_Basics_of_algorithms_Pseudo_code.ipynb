{
  "nbformat": 4,
  "nbformat_minor": 0,
  "metadata": {
    "colab": {
      "provenance": [],
      "authorship_tag": "ABX9TyPMSibYNHDzAsqFHVIHJ4bV"
    },
    "kernelspec": {
      "name": "python3",
      "display_name": "Python 3"
    },
    "language_info": {
      "name": "python"
    }
  },
  "cells": [
    {
      "cell_type": "code",
      "execution_count": null,
      "metadata": {
        "id": "rHoXlzDuxghL"
      },
      "outputs": [],
      "source": [
        "What is the outcome of the following pseudo-code?\n",
        "\n",
        "input Counter\n",
        "while(Counter<5) do\n",
        "  Counter=Counter+1\n",
        "  display Counter\n",
        "end-while\n",
        "Assume that the input value provided to variable, Counter is 1.\n",
        "\n",
        "Ans: 2,3,4,5\n",
        "2,3,4\n",
        "1,2,3,4\n",
        "1,2,3,4,5"
      ]
    },
    {
      "cell_type": "markdown",
      "source": [
        "## Variables, Datatypes & Operators in Python\n",
        "**Quiz - Operators**"
      ],
      "metadata": {
        "id": "EPny_JTA5mke"
      }
    },
    {
      "cell_type": "code",
      "source": [
        "Q1 of 6\n",
        "\n",
        "Suppose you have a bank account number, what do you think will be its data type?\n",
        "Example: 0000777888119\n",
        "\n",
        "int\n",
        "Ans:  string\n",
        "float"
      ],
      "metadata": {
        "id": "PBvAEhLA5EkW"
      },
      "execution_count": null,
      "outputs": []
    },
    {
      "cell_type": "code",
      "source": [
        "Q2 of 6\n",
        "\n",
        "Assume that there are five variables with the values given below:\n",
        "\n",
        "num1=10\n",
        "num2=5\n",
        "num3=0\n",
        "num4=2\n",
        "num5=10\n",
        "\n",
        "(num1==num5) and ((num2-num4*num3) == (num2-num3))\n",
        "\n",
        "\n",
        "Which among the expressions provide the same result as the\n",
        "above expression?\n",
        "\n",
        "(num2-num4*num3) <= ((num2-num4)*num3)\n",
        "Ans:  not(num3>=num4) and (num5/num2 == num4)\n",
        "not(num5>num4) or (num4+num2)>num1\n",
        "(num1==num5) and (not(num5/num2 == num1/num2))"
      ],
      "metadata": {
        "id": "jgbFVKFT54WM"
      },
      "execution_count": null,
      "outputs": []
    },
    {
      "cell_type": "code",
      "source": [
        "Q3 of 6\n",
        "\n",
        "What is the output of the below code snippet?\n",
        "\n",
        "num1 = 10\n",
        "num2 = 5\n",
        "num2 *= num1\n",
        "print(num2)\n",
        "This is same as num2=num2*num1. Python allows you to do this kind of short circuiting with any arithmetic operator\n",
        "\n",
        "Ans:  50\n",
        "10\n",
        "25\n",
        "100"
      ],
      "metadata": {
        "id": "F2bMbpgR6DuU"
      },
      "execution_count": null,
      "outputs": []
    },
    {
      "cell_type": "code",
      "source": [
        "Q4 of 6\n",
        "\n",
        "What is the output of the below code snippet?\n",
        "\n",
        "num1 = 50\n",
        "num2 = 2\n",
        "num3 = 3\n",
        "num4 = 8\n",
        "result = num1/num4-num3*num2+num4\n",
        "print(result)\n",
        "\n",
        "\n",
        "100\n",
        "14.5\n",
        "Ans:  8.25\n",
        "-23.75"
      ],
      "metadata": {
        "id": "pQCJG_BM6JAO"
      },
      "execution_count": null,
      "outputs": []
    },
    {
      "cell_type": "code",
      "source": [
        "Q5 of 6\n",
        "\n",
        "Identify the below expressions which would result in False?\n",
        "True and True\n",
        "False and True\n",
        "1==1 and 2==1\n",
        "1==1 and 2!=1\n",
        "True and 1==1\n",
        "\n",
        "a. 2, 3\n",
        "b. 1, 3, 5\n",
        "c. 3, 4\n",
        "d. 4, 5\n",
        "\n",
        "Ans:  a\n",
        "b\n",
        "c\n",
        "d"
      ],
      "metadata": {
        "id": "4ZWglxPA6VIj"
      },
      "execution_count": null,
      "outputs": []
    },
    {
      "cell_type": "code",
      "source": [
        "Q6 of 6\n",
        "\n",
        "Identify the below expressions which would result in True?\n",
        "\"Yes\" == \"Ok\"\n",
        "not(True and False)\n",
        "not(\"Landed\"==\"Landed\" and \"Flight\"==\"F101\")\n",
        "1==1 and (not(1==1 or 1==0))\n",
        "\n",
        "a. 2, 3\n",
        "b. 1, 2\n",
        "c. 1. 3\n",
        "d. 2, 4\n",
        "\n",
        "Ans: a\n",
        "b\n",
        "c\n",
        "d"
      ],
      "metadata": {
        "id": "uKvM1JBX6wi0"
      },
      "execution_count": null,
      "outputs": []
    },
    {
      "cell_type": "code",
      "source": [
        "Try out - Variables & Datatypes\n",
        "\n",
        "Problem Statement\n",
        "Write a python program to find and display the area of a circle. Use the formula given for finding the area of circle.\n",
        "area=3.14*radius*radius"
      ],
      "metadata": {
        "id": "_DnxM-P-60W8"
      },
      "execution_count": null,
      "outputs": []
    },
    {
      "cell_type": "code",
      "source": [
        "#Your code goes here\n",
        "radius=5  #you can replace 5 with any value.  #float(input())\n",
        "area = 3.14*radius*radius\n",
        "print(\"Area of circle is:\",area)"
      ],
      "metadata": {
        "colab": {
          "base_uri": "https://localhost:8080/"
        },
        "id": "dQJWYA5-8dPR",
        "outputId": "8d28f25d-d058-4776-cb90-90d551555e0d"
      },
      "execution_count": 4,
      "outputs": [
        {
          "output_type": "stream",
          "name": "stdout",
          "text": [
            "Area of circle is: 78.5\n"
          ]
        }
      ]
    },
    {
      "cell_type": "markdown",
      "source": [
        "### ***Assignment Set - 1***"
      ],
      "metadata": {
        "id": "qqvC0VcS9Xzi"
      }
    },
    {
      "cell_type": "markdown",
      "source": [
        "Assignment on selection in pseudo-code - Level 1\n",
        "\n",
        "Write a pseudo-code to move from the start (S) to the end (E) in the maze.\n",
        "\n",
        "Note: You can drag and drop the pseudo-code magnets to the pseudo-code box and create the appropriate pseudo-code."
      ],
      "metadata": {
        "id": "2qJS3MrdFq-i"
      }
    },
    {
      "cell_type": "code",
      "source": [
        "#Pseudo code Arrange in following order by drage and drop\n",
        "\n",
        "while(start != end) do\n",
        "\n",
        "move\n",
        "Right\n",
        "\n",
        "if(Is_Next_Block_Bomb) then\n",
        "\n",
        "move\n",
        "Down\n",
        "\n",
        "move\n",
        "Down\n",
        "\n",
        "end-if\n",
        "\n",
        "end-while"
      ],
      "metadata": {
        "id": "WPl0cIj9FUUo"
      },
      "execution_count": null,
      "outputs": []
    },
    {
      "cell_type": "markdown",
      "source": [
        "Assignment on selection in pseudo-code - Level 2\n",
        "\n",
        "Write a pseudo-code to find the minimum among three given numbers.\n",
        "Assume that the three numbers are always different.\n",
        "Note: You can use the drag and drop option provided below to create the appropriate pseudo-code from the set of statements provided."
      ],
      "metadata": {
        "id": "YOKqDLxTF6we"
      }
    },
    {
      "cell_type": "code",
      "source": [
        "input Number1,Number2,Number3\n",
        "if(Number1 < Number2) then\n",
        "if(Number1 < Number3) then\n",
        "display \"Num1 is the smallest\"\n",
        "else\n",
        "display \"Num3 is the smallest\"\n",
        "end-if\n",
        "else if(Number2 < Number3) then\n",
        "display \"Num2 is the smallest\"\n",
        "else\n",
        "display \"Num3 is the smallest\"\n",
        "end-if"
      ],
      "metadata": {
        "id": "25SDcbphF-3n"
      },
      "execution_count": null,
      "outputs": []
    },
    {
      "cell_type": "markdown",
      "source": [
        "\n",
        "Assignment on nested selection in pseudo-code - Level 2\n",
        "\n",
        "Write a pseudo-code to find out if a given year is a leap year or not.\n",
        "Any year which is divisible by 4 and not by 100 are leap years. Otherwise, any year which is divisible by 400 is also a leap year.\n",
        "Use the drag and drop option provided to create the correct pseudo-code.\n",
        "\n",
        "Note: This page has system assisted problem solving. Interactions would come to your help if you wait at any step or if you make a mistake."
      ],
      "metadata": {
        "id": "PPKosKaZ24no"
      }
    },
    {
      "cell_type": "code",
      "source": [
        "input Year\n",
        "if(Year%4==0 and Year%100!=0) then\n",
        "display \"It is a leap year\"\n",
        "else if(Year%400==0) then\n",
        "display \"It is a leap year\"\n",
        "else\n",
        "display \"It is not a leap year\"\n",
        "end-if"
      ],
      "metadata": {
        "id": "86hsfMGS4u1e"
      },
      "execution_count": null,
      "outputs": []
    },
    {
      "cell_type": "markdown",
      "source": [
        "Assignment on iteration in pseudo-code - Level 1\n",
        "\n",
        "Write a pseudo-code to check whether a given number is a palindrome.\n",
        "Examples of palindrome: 121, 1331, 2332,78900987,123456654321 etc."
      ],
      "metadata": {
        "id": "9zSrJ5eY4wXG"
      }
    },
    {
      "cell_type": "code",
      "source": [
        "input Number\n",
        "Temp=Number\n",
        "Reverse=0\n",
        "while(Number!=0) do\n",
        "Remainder=Number%10\n",
        "Reverse=Reverse*10+Remainder\n",
        "Number=Number/10\n",
        "end-while\n",
        "if(Temp==Reverse) then\n",
        "display \"Palindrome\"\n",
        "else\n",
        "display \"Not a Palindrome\"\n",
        "end-if"
      ],
      "metadata": {
        "id": "HDXCQMOx9szu"
      },
      "execution_count": null,
      "outputs": []
    },
    {
      "cell_type": "markdown",
      "source": [
        "Assignment on selection & iteration in pseudo-code - Level 2\n",
        "\n",
        "Write a pseudo-code to find the sum of numbers divisible by 4.The pseudo-code must allow the user to accept a number and add it to the sum if it is divisible by 4. It should continue accepting numbers as long as the user wants to provide an input and should display the final sum."
      ],
      "metadata": {
        "id": "VGvpE53M9z4E"
      }
    },
    {
      "cell_type": "code",
      "source": [
        "Choice='Yes'\n",
        "Sum=0\n",
        "while(Choice=='Yes') do\n",
        "input Number\n",
        "if(Number%4==0) then\n",
        "Sum=Sum+Number\n",
        "end-if\n",
        "display \"Do you want to continue? (Enter Yes or No)\"\n",
        "input Choice\n",
        "end-while\n",
        "display Sum"
      ],
      "metadata": {
        "id": "b4uVmr5V99SK"
      },
      "execution_count": null,
      "outputs": []
    },
    {
      "cell_type": "markdown",
      "source": [
        "\n",
        "Assignment on iteration in pseudo-code - Level 2\n",
        "\n",
        "A three digit number is said to be an “Armstrong number” if the sum of the third power of its individual digits is equal to the number itself.\n",
        "Example: 371 is an Armstrong number as 371 = 3 3 + 7 3 + 1 3\n",
        "              407 is an Armstrong number as 407 = 4 3 + 0 3 + 7 3\n",
        "Write a pseudo-code to check whether a given three digit number is an Armstrong number."
      ],
      "metadata": {
        "id": "_EGkWiNVATfw"
      }
    },
    {
      "cell_type": "code",
      "source": [
        "input Number\n",
        "Temp = Number\n",
        "Sum = 0\n",
        "while(Number != 0) do\n",
        "Remainder = Number % 10\n",
        "Sum = Sum + Remainder * Remainder * Remainder\n",
        "Number = Number / 10\n",
        "end-while\n",
        "if(Temp == Sum) then\n",
        "display \"This is an Armstrong Number\"\n",
        "else\n",
        "display \"This is not an Armstrong Number\"\n",
        "end-if"
      ],
      "metadata": {
        "id": "dqkHzxn2AY2K"
      },
      "execution_count": null,
      "outputs": []
    },
    {
      "cell_type": "markdown",
      "source": [
        "Assignment on iteration in pseudo-code - Level 3\n",
        "\n",
        "Write a pseudo-code which helps ( O> ) to reach ( E )."
      ],
      "metadata": {
        "id": "WociMHRWrlrK"
      }
    },
    {
      "cell_type": "code",
      "source": [
        "while(start != end) do\n",
        "if(Path_Ahead_Available) then\n",
        "move forward\n",
        "else\n",
        "Turn\n",
        "Left\n",
        "end-if\n",
        "\n",
        "if(Key_Found) then\n",
        "Unlock Lock\n",
        "else if(Diffuser_Found) then\n",
        "Diffuse Bombs\n",
        "else if(Left_Turn_Available) then\n",
        "Turn\n",
        "Left\n",
        "else\n",
        "move forward\n",
        "end-if\n",
        "end-while"
      ],
      "metadata": {
        "id": "ipVTp17CreMx"
      },
      "execution_count": null,
      "outputs": []
    },
    {
      "cell_type": "markdown",
      "source": [
        "Assignment on iteration with canvas - Level 1\n",
        "\n",
        "Write a pseudo-code to recreate the figure given in the expected canvas for the scenario.\n",
        "Note: You can drag and drop the pseudo-code magnets to the pseudo-code step boxes and create the appropriate pseudo-code."
      ],
      "metadata": {
        "id": "GbYMN81lrrTY"
      }
    },
    {
      "cell_type": "code",
      "source": [
        "Pseudo-code\n",
        "\n",
        "for(Counter=0, Counter<=3, Counter=Counter+1)\n",
        "add Mountain\n",
        "end-for\n",
        "\n",
        "for(Counter=0, Counter<=2, Counter=Counter+1)\n",
        "add Sheep\n",
        "end-for\n",
        "\n",
        "display Daylight"
      ],
      "metadata": {
        "id": "QCQvenqvr1zf"
      },
      "execution_count": null,
      "outputs": []
    },
    {
      "cell_type": "markdown",
      "source": [
        "Assignment on iteration with canvas - Level 2\n",
        "\n",
        "Write a pseudo-code to recreate the figure given in the expected canvas the scenario."
      ],
      "metadata": {
        "id": "APAqCCKCtahk"
      }
    },
    {
      "cell_type": "code",
      "source": [
        "Pseudo-code\n",
        "\n",
        "add Mountain\n",
        "display Moon\n",
        "add Sheep\n",
        "for(Counter=0, Counter<=2, Counter=Counter+1)\n",
        "add Tree\n",
        "end-for\n",
        "\n",
        "display Snow\n",
        "display Nightsky"
      ],
      "metadata": {
        "id": "Hf7W4NUotitw"
      },
      "execution_count": null,
      "outputs": []
    },
    {
      "cell_type": "markdown",
      "source": [
        "Assignment on Selection with Turtle - Level 2\n",
        "\n",
        "Write a program to create the following pattern:\n",
        "![A12.png](data:image/png;base64,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)"
      ],
      "metadata": {
        "id": "Jz0j9NvwuMUd"
      }
    },
    {
      "cell_type": "code",
      "source": [
        "import turtle\n",
        "wn = turtle.Screen()        # creates a graphics window\n",
        "wn.setup(540,508)           # set window dimension\n",
        "\n",
        "alex = turtle.Turtle()      # create a turtle named alex\n",
        "alex.shape(\"turtle\")        # alex looks like a turtle\n",
        "alex.color('red')           # alex has a color\n",
        "\n",
        "\n",
        "alex.circle(50)              # draws a circle of radius 50\n",
        "alex.backward(50)            # alex moves 50 positions backward\n",
        "alex.forward(50)             # alex moves 50 positions forward\n",
        "alex.right(60)               # alex turns 60 degrees right\n",
        "alex.left(60)                # alex turns 60 degrees left\n",
        "\n",
        "\n",
        "#Write the logic to draw the given pattern\n",
        "#Refer the statements given above to draw the pattern\n",
        "alex.forward(100)\n",
        "alex.left(90)\n",
        "alex.forward(100)\n",
        "alex.left(90)\n",
        "alex.forward(200)\n",
        "alex.left(90)\n",
        "alex.forward(100)\n",
        "alex.left(90)\n",
        "alex.forward(50)\n",
        "alex.forward(150)\n",
        "alex.right(90)"
      ],
      "metadata": {
        "id": "YzdyzhH2w8ng"
      },
      "execution_count": null,
      "outputs": []
    },
    {
      "cell_type": "markdown",
      "source": [
        "Assignment on Iteration Structures in Pseudo-code - Level 2\n",
        "\n",
        "Write a pseudo-code which helps ( O> ) to reach ( E ).\n",
        "Note: You can drag and drop the pseudo-code magnets to the pseudo-code box and create the appropriate pseudo-code."
      ],
      "metadata": {
        "id": "CdqEntcmwwio"
      }
    },
    {
      "cell_type": "code",
      "source": [
        "while(start != end) do\n",
        "move forward\n",
        "if(Right_Turn_Available) then\n",
        "Turn\n",
        "Right\n",
        "end-if\n",
        "\n",
        "if(Red_Key_Found) then\n",
        "Unlock Red Lock\n",
        "else if(Blue_Key_Found) then\n",
        "Unlock Blue Lock\n",
        "end-if\n",
        "end-while\n"
      ],
      "metadata": {
        "id": "0GNtkcvXue-3"
      },
      "execution_count": null,
      "outputs": []
    },
    {
      "cell_type": "markdown",
      "source": [
        "Assignment on nested iteration in pseudo-code - Level 3\n",
        "\n",
        "JIT University offering degree courses to students has decided to provide scholarship based on the following details:\n",
        "\n",
        "Branch of study\tScore (%)\tScholarship %\tRemarks\n",
        "Arts\tScore is at least 90\t50\tThe student is eligible only for one scholarship% even if both the score conditions are valid for the given branch of study. In such cases, students are eligible for the highest scholarship% applicable among the two.\n",
        "Arts\tScore is an odd number\t5\n",
        "Engineering\tScore is more than 85\t50\n",
        "Engineering\tScore is divisible by 7\t5If there are 500 students who have joined the university, write a pseudo-code to calculate and display the final fees to be paid by each student.\n",
        "You may accept the branch of study, score and course fee as inputs for each student and calculate the final fees to be paid by each student based on formulae given below:\n",
        "Scholarship amount=course fee * (scholarship%)\n",
        "Final fee= course fee - scholarship amount"
      ],
      "metadata": {
        "id": "izs4-Tgh1e8F"
      }
    },
    {
      "cell_type": "code",
      "source": [
        "for (Counter=1, Counter<=500, Counter=Counter+1)\n",
        "input Branch_Of_Study,Score,Course_Fee\n",
        "Scholarship=0\n",
        "if(Branch_Of_Study==\"Arts\") then\n",
        "if(Score>=90)then\n",
        "Scholarship=50\n",
        "else if(Score%2!=0) then\n",
        "Scholarship=5\n",
        "end-if\n",
        "else if(Branch_Of_Study==\"Engineering\") then\n",
        "if(Score>85) then\n",
        "Scholarship=50\n",
        "else if(Score%7==0) then\n",
        "Scholarship=5\n",
        "end-if\n",
        "end-if\n",
        "Scholarship_Amount=Course_Fee*Scholarship/100\n",
        "Final_Fee=Course_Fee - Scholarship_Amount\n",
        "display Final_Fee\n",
        "end-for"
      ],
      "metadata": {
        "id": "ZvMxNQ8f1b9H"
      },
      "execution_count": null,
      "outputs": []
    },
    {
      "cell_type": "code",
      "source": [],
      "metadata": {
        "id": "vtMvovsCuL9M"
      },
      "execution_count": null,
      "outputs": []
    }
  ]
}