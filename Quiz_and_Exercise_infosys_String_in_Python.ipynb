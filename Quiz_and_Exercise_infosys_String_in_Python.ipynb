{
  "nbformat": 4,
  "nbformat_minor": 0,
  "metadata": {
    "colab": {
      "provenance": [],
      "authorship_tag": "ABX9TyPXLyX+MwyBbNU2iXcEIDhB",
      "include_colab_link": true
    },
    "kernelspec": {
      "name": "python3",
      "display_name": "Python 3"
    },
    "language_info": {
      "name": "python"
    }
  },
  "cells": [
    {
      "cell_type": "markdown",
      "metadata": {
        "id": "view-in-github",
        "colab_type": "text"
      },
      "source": [
        "<a href=\"https://colab.research.google.com/github/Sachin-0231/Infosys-Summer-Training-Program-on-Python/blob/main/Quiz_and_Exercise_infosys_String_in_Python.ipynb\" target=\"_parent\"><img src=\"https://colab.research.google.com/assets/colab-badge.svg\" alt=\"Open In Colab\"/></a>"
      ]
    },
    {
      "cell_type": "markdown",
      "source": [
        "##Exercise on String - Level 2\n",
        "\n",
        "Write a python program to generate the ticket numbers for specified number of passengers traveling in a flight as per the details mentioned below:\n",
        "The ticket number should be generated as airline:src:dest:number\n",
        "where\n",
        "\n",
        "Consider AI as the value for airline\n",
        "src and dest should be the first three characters of the source and destination cities.\n",
        "number should be auto-generated starting from 101\n",
        "The program should return the list of ticket numbers of last five passengers.\n",
        "Note: If passenger count is less than 5, return the list of all generated ticket numbers."
      ],
      "metadata": {
        "id": "57hK6NuWGzWO"
      }
    },
    {
      "cell_type": "code",
      "source": [
        "#lex_auth_012693763253788672132\n",
        "\n",
        "def generate_ticket(airline,source,destination,no_of_passengers):\n",
        "    ticket_number_list=[]\n",
        "    #Write your logic here\n",
        "    for i in range(no_of_passengers):\n",
        "        ticket_number_list.append(airline+':'+source[:3]+':'+destination[:3]+':'+str(101+i))\n",
        "        if len(ticket_number_list) > 5:\n",
        "            ticket_number_list.pop(0)\n",
        "\n",
        "    #Use the below return statement wherever applicable\n",
        "    return ticket_number_list\n",
        "\n",
        "#Provide different values for airline,source,destination,no_of_passengers and test your program\n",
        "print(generate_ticket(\"AI\",\"Bangalore\",\"London\",7))"
      ],
      "metadata": {
        "id": "iPGcXttiGTU0"
      },
      "execution_count": null,
      "outputs": []
    },
    {
      "cell_type": "markdown",
      "source": [
        "#Quiz - String"
      ],
      "metadata": {
        "id": "ziu06-ejEiLU"
      }
    },
    {
      "cell_type": "markdown",
      "source": [
        "##Q1 of 3\n",
        "\n",
        "Consider the following list of pan card numbers:\n",
        "pancard_list=[\"AABGT6715H\", \"UFFAC4352T\", \"IFSBD9163K\", \"JOOEC1225H\",\"RWXAFE187B\"]\n",
        "\n",
        "What is the output of the below two print statements?\n",
        "\n",
        "print(pancard_list[3][6], end=\" \")\n",
        "\n",
        "print(pancard_list[4][3:])\n",
        "\n",
        "9 OEC1225H\n",
        "<br>**2 AFE187B**\n",
        "<br>9163K O\n",
        "<br>225H A\n",
        "\n",
        "<br>\n",
        "##Q2 of 3\n",
        "\n",
        "What is the output of the code given below?\n",
        "```\n",
        "message=\"welcome to Mysore\"\n",
        "word=message[-7:]\n",
        "if(word==\"mysore\"):\n",
        "    print(\"got it\")\n",
        "else:\n",
        "    message=message[3:14]\n",
        "    print(message)\n",
        " ```\n",
        "\n",
        "come to Myso\n",
        "<br>**come to Mys**\n",
        "<br>lcome to Mys\n",
        "<br>lcome to Myso\n",
        "\n",
        "<br>\n",
        "\n",
        "##Q3 of 3\n",
        "\n",
        "What is the output of the below code?\n",
        "```\n",
        "song=\"JINGLE Bells jingle Bells Jingle All The Way\"\n",
        "song.upper()\n",
        "song_words=song.split()\n",
        "count=0\n",
        "for word in song_words:\n",
        "    if(word.startswith(\"jingle\")):\n",
        "        count=count+1\n",
        "print(count)\n",
        " ```\n",
        "\n",
        "0\n",
        "<br>3\n",
        "<br>2\n",
        "<br>**1**"
      ],
      "metadata": {
        "id": "1XFsv8LhEeWi"
      }
    },
    {
      "cell_type": "markdown",
      "source": [
        "\n",
        "#Exercise on String Functions - Level 1"
      ],
      "metadata": {
        "id": "DWecgZPFEeVE"
      }
    },
    {
      "cell_type": "markdown",
      "source": [
        "###Problem Statement\n",
        "Write a python program which displays the count of the names that matches a given pattern from a list of names provided.\n",
        "\n",
        "Consider the pattern characters to be:\n",
        "\n",
        "1. \"_ at\" where \"_\" can be one occurrence of any\n",
        "character\n",
        "\n",
        "2. \"%at%\" where \"%\" can have zero or any number of occurrences of a character\n",
        "\n",
        "Sample Input---------------------Expected Output\n",
        "\n",
        "[Hat, Cat, Rabbit, Matter]-------------_at -> 2 <br> --------------------------------------------%at% -> 3\n",
        "\n",
        ""
      ],
      "metadata": {
        "id": "4J_0I7m0FpCc"
      }
    },
    {
      "cell_type": "code",
      "source": [
        "#lex_auth_01269438070259712046\n",
        "\n",
        "def count_names(name_list):\n",
        "    count1=0\n",
        "    count2=0\n",
        "\n",
        "    #start writing your code here\n",
        "    #Populate the variables: count1 and count2\n",
        "    for i in name_list:\n",
        "        if len(i) == 3 and i.endswith('at'):\n",
        "            count1+=1\n",
        "        if 'at' in i:\n",
        "            count2+=1\n",
        "\n",
        "\n",
        "    # Use the below given print statements to display the output\n",
        "    # Also, do not modify them for verification to work\n",
        "    print(\"_at -> \",count1)\n",
        "    print(\"%at% -> \",count2)\n",
        "\n",
        "\n",
        "#Provide different names in the list and test your program\n",
        "name_list=[\"Hat\",\"Cat\",\"rabbit\",\"matter\"]\n",
        "count_names(name_list)"
      ],
      "metadata": {
        "id": "5uYE4dJ4GML7"
      },
      "execution_count": null,
      "outputs": []
    }
  ]
}