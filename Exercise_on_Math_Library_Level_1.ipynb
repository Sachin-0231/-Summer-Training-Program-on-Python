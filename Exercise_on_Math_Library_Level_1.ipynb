{
  "nbformat": 4,
  "nbformat_minor": 0,
  "metadata": {
    "colab": {
      "provenance": [],
      "authorship_tag": "ABX9TyP5io69qK/UQJ5DdXo2xih/",
      "include_colab_link": true
    },
    "kernelspec": {
      "name": "python3",
      "display_name": "Python 3"
    },
    "language_info": {
      "name": "python"
    }
  },
  "cells": [
    {
      "cell_type": "markdown",
      "metadata": {
        "id": "view-in-github",
        "colab_type": "text"
      },
      "source": [
        "<a href=\"https://colab.research.google.com/github/Sachin-0231/Infosys-Summer-Training-Program-on-Python/blob/main/Exercise_on_Math_Library_Level_1.ipynb\" target=\"_parent\"><img src=\"https://colab.research.google.com/assets/colab-badge.svg\" alt=\"Open In Colab\"/></a>"
      ]
    },
    {
      "cell_type": "markdown",
      "source": [
        "##Problem Statement\n",
        "We have ‘N’ flavors of toppings that can be added to a coffee. For example  chocolate, hazelnut, vanilla, Irish and so on.\n",
        "\n",
        "Write a function that takes the number of available flavors as input and returns the total number of different ways we can have our coffee. Note that we can have coffee without any toppings or with different combination of toppings.\n"
      ],
      "metadata": {
        "id": "yWkRmh6F4tSf"
      }
    },
    {
      "cell_type": "code",
      "source": [
        "#lex_auth_01269437590597632045\n",
        "\n",
        "def find_number_of_combination(number_of_flavours):\n",
        "    total_combination=0\n",
        "    #write your logic here\n",
        "    total_combination=2**number_of_flavours\n",
        "    return total_combination\n",
        "\n",
        "\n",
        "#Provide different values for number_of_flavours and test your program\n",
        "number_of_combination=find_number_of_combination(6)\n",
        "print(number_of_combination)"
      ],
      "metadata": {
        "id": "_KP_H1By5JVF"
      },
      "execution_count": null,
      "outputs": []
    },
    {
      "cell_type": "markdown",
      "source": [
        "###Problem Statement\n",
        "Try out the code which uses the time and datetime built-in functions and observe the results."
      ],
      "metadata": {
        "id": "xD18HNAb5y3u"
      }
    },
    {
      "cell_type": "code",
      "source": [
        "import time\n",
        "import datetime\n",
        "\n",
        "#To get current GM time\n",
        "print(\"Current GM time:\",time.gmtime())\n",
        "#This returns a time structure containing 9 values - year, month,day, hour, minute, sec, day of week, day of year and daylight savings.\n",
        "\n",
        "#To get current local time\n",
        "print(\"Current local time:\",time.localtime())\n",
        "#This also returns a time structure containing 9 values - year, month,day, hour, minute, sec, day of week, day of year and daylight savings.\n",
        "\n",
        "#To extract today's date in a specified string format\n",
        "print(\"Today's date using time module\",time.strftime(\"%m-%m/%Y\"))\n",
        "\n",
        "#Python additionally allows use of  datetime module\n",
        "#Prints today's date\n",
        "print(\"Today's date using datetime module:\", datetime.date.today())\n",
        "\n",
        "#To extract today's date in a specified string format\n",
        "print(\"Today's date (dd/mm/yyyy) using datetime module:\", datetime.date.today().strftime(\"%d/%m/%Y\"))\n",
        "\n",
        "\n",
        "#To convert a date in string format to datetime value\n",
        "print(\"Today's date (dd/mm/yyyy):\", datetime.datetime.strptime(\"17/04/1\",\"%y/%d/%m\"))"
      ],
      "metadata": {
        "colab": {
          "base_uri": "https://localhost:8080/"
        },
        "id": "f9iGmQzj5zU2",
        "outputId": "b5540de8-6665-4e89-9544-af9344f6f023"
      },
      "execution_count": 1,
      "outputs": [
        {
          "output_type": "stream",
          "name": "stdout",
          "text": [
            "Current GM time: time.struct_time(tm_year=2023, tm_mon=7, tm_mday=18, tm_hour=21, tm_min=28, tm_sec=20, tm_wday=1, tm_yday=199, tm_isdst=0)\n",
            "Current local time: time.struct_time(tm_year=2023, tm_mon=7, tm_mday=18, tm_hour=21, tm_min=28, tm_sec=20, tm_wday=1, tm_yday=199, tm_isdst=0)\n",
            "Today's date using time module 07-07/2023\n",
            "Today's date using datetime module: 2023-07-18\n",
            "Today's date (dd/mm/yyyy) using datetime module: 18/07/2023\n",
            "Today's date (dd/mm/yyyy): 2017-01-04 00:00:00\n"
          ]
        }
      ]
    }
  ]
}