{
  "nbformat": 4,
  "nbformat_minor": 0,
  "metadata": {
    "colab": {
      "provenance": [],
      "authorship_tag": "ABX9TyM//VhgBvCsMfC8aavpFTb1",
      "include_colab_link": true
    },
    "kernelspec": {
      "name": "python3",
      "display_name": "Python 3"
    },
    "language_info": {
      "name": "python"
    }
  },
  "cells": [
    {
      "cell_type": "markdown",
      "metadata": {
        "id": "view-in-github",
        "colab_type": "text"
      },
      "source": [
        "<a href=\"https://colab.research.google.com/github/Sachin-0231/Infosys-Summer-Training-Program-on-Python/blob/main/Assignment_Set_3_Programming_Fundamentals_using_Python_Part_1_solution.ipynb\" target=\"_parent\"><img src=\"https://colab.research.google.com/assets/colab-badge.svg\" alt=\"Open In Colab\"/></a>"
      ]
    },
    {
      "cell_type": "markdown",
      "source": [
        "##Assignment on List - Level 1"
      ],
      "metadata": {
        "id": "8PhzbDejo-it"
      }
    },
    {
      "cell_type": "markdown",
      "source": [
        "###Problem Statement\n",
        "Write a Python program to generate the next 15 leap years starting from a given year. Populate the leap years into a list and display the list.\n",
        ""
      ],
      "metadata": {
        "id": "qR9kyk7vmjcj"
      }
    },
    {
      "cell_type": "code",
      "source": [
        "    list_of_leap_years = list()\n",
        "    while len(list_of_leap_years) < 15:\n",
        "        if (given_year%400==0 or (given_year%4==0 and given_year%100!=0)):\n",
        "            list_of_leap_years.append(given_year)\n",
        "        given_year += 1\n",
        "\n",
        "    return list_of_leap_years"
      ],
      "metadata": {
        "id": "B3wDAp21mq4x"
      },
      "execution_count": null,
      "outputs": []
    },
    {
      "cell_type": "markdown",
      "source": [
        "##Assignment on List - Level 2\n",
        "###Problem Statement\n",
        "ARS Gems Store sells different varieties of gems to its customers.\n",
        "\n",
        "Write a Python program to calculate the bill amount to be paid by a customer based on the list of gems and quantity purchased. Any purchase with a total bill amount above Rs.30000 is entitled for 5% discount. If any gem required by the customer is not available in the store, then consider total bill amount to be -1.\n",
        "\n",
        "Assume that quantity required by the customer for any gem will always be greater than 0.\n",
        "\n",
        "Perform case-sensitive comparison wherever applicable."
      ],
      "metadata": {
        "id": "XNE6nFconabH"
      }
    },
    {
      "cell_type": "code",
      "source": [
        "#lex_auth_012693795044450304151\n",
        "\n",
        "def calculate_bill_amount(gems_list, price_list, reqd_gems,reqd_quantity):\n",
        "    bill_amount=0\n",
        "    #Write your logic here\n",
        "    for i in reqd_gems:\n",
        "        if i not in gems_list:\n",
        "            bill_amount=-1\n",
        "            return bill_amount\n",
        "    for i in range(len(reqd_gems)):\n",
        "        k = gems_list.index(reqd_gems[i])\n",
        "\n",
        "        bill_amount+= price_list[k]*reqd_quantity[i]\n",
        "    if bill_amount>30000:\n",
        "        bill_amount= bill_amount-(5/100)*bill_amount    #Write your logic here\n",
        "    return bill_amount\n",
        "\n",
        "#List of gems available in the store\n",
        "gems_list=[\"Emerald\",\"Ivory\",\"Jasper\",\"Ruby\",\"Garnet\"]\n",
        "\n",
        "#Price of gems available in the store. gems_list and price_list have one-to-one correspondence\n",
        "price_list=[1760,2119,1599,3920,3999]\n",
        "\n",
        "#List of gems required by the customer\n",
        "reqd_gems=[\"Ivory\",\"Emerald\",\"Garnet\"]\n",
        "\n",
        "#Quantity of gems required by the customer. reqd_gems and reqd_quantity have one-to-one correspondence\n",
        "reqd_quantity=[3,10,12]\n",
        "\n",
        "bill_amount=calculate_bill_amount(gems_list, price_list, reqd_gems, reqd_quantity)\n",
        "print(bill_amount)"
      ],
      "metadata": {
        "id": "G_ynoTRQn9fv"
      },
      "execution_count": null,
      "outputs": []
    },
    {
      "cell_type": "markdown",
      "source": [
        "##Assignment on List - Level 2 (Puzzle)\n",
        "###Problem Statement\n",
        "Write a python function, create_largest_number(), which accepts a list of numbers and returns the largest number possible by concatenating the list of numbers.\n",
        "Note: Assume that all the numbers are two digit numbers.\n",
        "\n",
        "\n",
        "Sample Input\n",
        "\n",
        "Expected Output\n",
        "\n",
        "23,34,55\n",
        "\n",
        "553423\n",
        "\n"
      ],
      "metadata": {
        "id": "wCRz053nn8fO"
      }
    },
    {
      "cell_type": "code",
      "source": [
        "#lex_auth_01269441913243238467\n",
        "\n",
        "def create_largest_number(number_list):\n",
        "    #remove pass and write your logic here\n",
        "    return int(''.join(sorted(map(str,number_list),reverse=True)))\n",
        "\n",
        "number_list=[23,45,67]\n",
        "largest_number=create_largest_number(number_list)\n",
        "print(largest_number)"
      ],
      "metadata": {
        "id": "rJvibKxgocym"
      },
      "execution_count": null,
      "outputs": []
    },
    {
      "cell_type": "markdown",
      "source": [
        "##Assignment on String - Level 1\n",
        "###Problem Statement\n",
        "Write a function, ***check_palindrome()*** to check whether the given string is a palindrome or not. The function should return true if it is a palindrome else it should return false.\n",
        "\n",
        "Note: Initialize the string with various values and test your program. Assume that all the letters in the given string are all of the same case. Example: MAN, civic, WOW etc."
      ],
      "metadata": {
        "id": "e9CWwTTfphO2"
      }
    },
    {
      "cell_type": "code",
      "source": [
        "#lex_auth_012693819159732224162\n",
        "\n",
        "def check_palindrome(word):\n",
        "    #Remove pass and write your logic here\n",
        "    return word == word[::-1]\n",
        "\n",
        "status=check_palindrome(\"malayalam\")\n",
        "if(status):\n",
        "    print(\"word is palindrome\")\n",
        "else:\n",
        "    print(\"word is not palindrome\")"
      ],
      "metadata": {
        "id": "cChVBuOypswF"
      },
      "execution_count": null,
      "outputs": []
    },
    {
      "cell_type": "markdown",
      "source": [
        "###Assignment on String - Level 2\n",
        "##Problem Statement\n",
        "Given a string containing uppercase characters (A-Z), compress the string using Run Length encoding. Repetition of character has to be replaced by storing the length of that run.\n",
        "\n",
        "Write a python function which performs the run length encoding for a given String and returns the run length encoded String.\n",
        "\n",
        "Provide different String values and test your program\n",
        "\n",
        "Sample Input\n",
        "\n",
        "Expected Output\n",
        "\n",
        "AAAABBBBCCCCCCCC\n",
        "\n",
        "4A4B8C\n",
        "\n",
        "AABCCA\n",
        "\n",
        "2A1B2C1A\n",
        "\n",
        ""
      ],
      "metadata": {
        "id": "JtSK-NWhpwVV"
      }
    },
    {
      "cell_type": "code",
      "source": [
        "#lex_auth_012693816331657216161\n",
        "\n",
        "def encode(message):\n",
        "    #Remove pass and write your logic here\n",
        "    if len(message) == 1:\n",
        "        return '1'+message\n",
        "    result=''\n",
        "    count = 0\n",
        "    for i in range(1,len(message)):\n",
        "        if message[i-1] == message[i]:\n",
        "            count+=1\n",
        "        else:\n",
        "            result+=str(count+1)+message[i-1]\n",
        "            count=0\n",
        "    if message[len(message)-2] == message[len(message)-1]:\n",
        "        result+=str(count)+message[len(message)-1]\n",
        "    else:\n",
        "        result+='1'+message[len(message)-1]\n",
        "    return result\n",
        "\n",
        "#Provide different values for message and test your program\n",
        "encoded_message=encode(\"ABBBBCCCCCCCCAB\")\n",
        "print(encoded_message)"
      ],
      "metadata": {
        "id": "DmvxqUbIp9Jl"
      },
      "execution_count": null,
      "outputs": []
    },
    {
      "cell_type": "markdown",
      "source": [
        "##Assignment on Tuple - Level 2\n",
        "###Problem Statement\n",
        "A teacher is conducting a camp for a group of five children. Based on their performance and behavior during the camp, the teacher rewards them with chocolates.\n",
        "\n",
        "Write a Python function to\n",
        "\n",
        "1. Find the total number of chocolates received by all the children put together.\n",
        "Assume that each child is identified by an id and it is stored in a tuple and the number of chocolates given to each child is stored in a list.\n",
        "\n",
        "2. The teacher also rewards a child with few extra chocolates for his/her best conduct during the camp.\n",
        "\n",
        "If the number of extra chocolates is less than 1, an error message \"Extra chocolates is less than 1\", should be displayed.\n",
        "\n",
        "If the given child Id is invalid, an error message \"Child id is invalid\" should be displayed. Otherwise, the extra chocolates provided for the child must be added to his/her existing number of chocolates and display the list containing the total number of chocolates received by each child."
      ],
      "metadata": {
        "id": "V1NiCAEYqhXM"
      }
    },
    {
      "cell_type": "code",
      "source": [
        "#lex_auth_01269442027919769669\n",
        "\n",
        "#Global variables\n",
        "child_id=(10,20,30,40,50)\n",
        "chocolates_received=[12,5,3,4,6]\n",
        "\n",
        "def calculate_total_chocolates():\n",
        "    #Remove pass and write your logic here to find and return the total number of chocolates\n",
        "    return sum(chocolates_received)\n",
        "\n",
        "\n",
        "def reward_child(child_id_rewarded,extra_chocolates):\n",
        "    #Remove pass and write your logic here\n",
        "    if extra_chocolates < 1:\n",
        "        print(\"Extra chocolates is less than 1\")\n",
        "        return\n",
        "    if child_id_rewarded not in child_id:\n",
        "        print(\"Child id is invalid\")\n",
        "        return\n",
        "    chocolates_received[child_id.index(child_id_rewarded)] +=  extra_chocolates\n",
        "    print(chocolates_received)\n",
        "\n",
        "\n",
        "    # Use the below given print statements to display the output\n",
        "    # Also, do not modify them for verification to work\n",
        "\n",
        "    #print(\"Extra chocolates is less than 1\")\n",
        "    #print(\"Child id is invalid\")\n",
        "    #print(chocolates_received)\n",
        "\n",
        "\n",
        "print(calculate_total_chocolates())\n",
        "#Test your code by passing different values for child_id_rewarded,extra_chocolates\n",
        "reward_child(20,2)"
      ],
      "metadata": {
        "id": "tdIQyLxPqnID"
      },
      "execution_count": null,
      "outputs": []
    }
  ]
}