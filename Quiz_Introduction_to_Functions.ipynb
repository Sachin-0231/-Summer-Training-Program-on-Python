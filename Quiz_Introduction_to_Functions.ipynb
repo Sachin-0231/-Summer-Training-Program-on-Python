{
  "nbformat": 4,
  "nbformat_minor": 0,
  "metadata": {
    "colab": {
      "provenance": []
    },
    "kernelspec": {
      "name": "python3",
      "display_name": "Python 3"
    },
    "language_info": {
      "name": "python"
    }
  },
  "cells": [
    {
      "cell_type": "markdown",
      "source": [
        "\n",
        "## Introduction to Functions\n",
        "Quiz of Infosys Programming in Python 1\n",
        "\n",
        "\n"
      ],
      "metadata": {
        "id": "Xc9hoVl0DW_Z"
      }
    },
    {
      "cell_type": "markdown",
      "source": [
        "**Q1 of 5** :\n",
        "Which among the following statements are CORRECT with respect to functions?\n",
        "Choose THREE correct options.\n",
        "\n",
        "\n",
        "*   **It is a section of a program that performs a specific task**\n",
        "*   **It helps to clearly separate tasks within a program**\n",
        "*   **Control can be transferred back and forth between different functions based on need**\n",
        "*   It doesn't help to achieve modularity\n",
        "*   It doesn't support reusability"
      ],
      "metadata": {
        "id": "rB6Q3SQe_2v7"
      }
    },
    {
      "cell_type": "markdown",
      "source": [
        "Q2 of 5\n",
        "\n",
        "Match the following based on collect_tax() function given below:\n",
        "```\n",
        "def collect_tax(x,y):\n",
        "    tax=x+y\n",
        "    return tax\n",
        "a=1000\n",
        "b=12000\n",
        "result=collect_tax(a,b)\n",
        "print(result)\n",
        "```\n",
        "\n"
      ],
      "metadata": {
        "id": "6BOykIs_A7MG"
      }
    },
    {
      "cell_type": "markdown",
      "source": [
        "![Screenshot (100).png](data:image/png;base64,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)"
      ],
      "metadata": {
        "id": "Hw6HvbqdEGrL"
      }
    },
    {
      "cell_type": "markdown",
      "source": [
        "Q3 of 5\n",
        "\n",
        "Choose the most appropriate function call needed at line 4 to get the output as ‘Result: 4’.\n",
        "```\n",
        "def check_value(message,num):\n",
        "    msg=message[:num]\n",
        "    return len(msg)\n",
        "\n",
        "#function call statement\n",
        "print(\"Result:\", result)\n",
        "```\n",
        "\n",
        "* result=check_value(‘Infosys’,3)\n",
        "* result=check_value(4,'Infosys‘)\n",
        "* **result=check_value('Infosys',4)**\n",
        "* result=check_value('Infosys',len('Infosys'))"
      ],
      "metadata": {
        "id": "ip-YTEJbBoPK"
      }
    },
    {
      "cell_type": "markdown",
      "source": [
        "Q4 of 5\n",
        "Predict the output of the following code snippet:\n",
        "```\n",
        "def func1():\n",
        "    print(\"Inside Func1\")\n",
        "    return 10\n",
        "\n",
        "def func2():\n",
        "    print(\"Inside Func2\")\n",
        "    num=func1()\n",
        "    return num\n",
        "\n",
        "def func3():\n",
        "    print(\"Inside Func3\")\n",
        "    num=func2()\n",
        "    num=num*5\n",
        "    return num\n",
        "\n",
        "val=func3()\n",
        "print(val)\n",
        "```\n",
        "a. Inside Func3\n",
        "    Inside Func2\n",
        "    Inside Func1\n",
        "    50\n",
        "\n",
        "b. Inside Func1\n",
        "    Inside Func2\n",
        "    Inside Func3\n",
        "    50\n",
        "\n",
        "c. Inside Func3\n",
        "    Inside Func2\n",
        "    Inside Func1\n",
        "    10\n",
        "\n",
        "d. Inside Func1\n",
        "    Inside Func2\n",
        "    Inside Func3\n",
        "    10\n",
        "\n",
        "* ***a***\n",
        "* b\n",
        "* c\n",
        "* d"
      ],
      "metadata": {
        "id": "ibmhZY5gBxud"
      }
    },
    {
      "cell_type": "markdown",
      "source": [],
      "metadata": {
        "id": "5uvAfBhADVlu"
      }
    },
    {
      "cell_type": "markdown",
      "source": [
        "Q5 of 5\n",
        "\n",
        "What is the output of the following code snippet?\n",
        "```\n",
        "def verify(num1,num2):\n",
        "    if num1 > num2:\n",
        "        return num1\n",
        "    elif num1 == num2:\n",
        "        return 1\n",
        "    else:\n",
        "        return num2\n",
        "\n",
        "def display(arg1,arg2):\n",
        "    if(verify(arg1,arg2)==arg1):\n",
        "        print(\"A\")\n",
        "    elif(verify(arg1,arg2)==1):\n",
        "        print(\"C\")\n",
        "    else:\n",
        "        print(\"B\")\n",
        "\n",
        "display(1000,3500)\n",
        " ```\n",
        "\n",
        "* **A**\n",
        "* B\n",
        "* C"
      ],
      "metadata": {
        "id": "6QZ_b9g7CviV"
      }
    }
  ]
}
