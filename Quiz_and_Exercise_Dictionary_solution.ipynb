{
  "nbformat": 4,
  "nbformat_minor": 0,
  "metadata": {
    "colab": {
      "provenance": [],
      "authorship_tag": "ABX9TyOU+wcBHAUWPF6BYYUQd28v",
      "include_colab_link": true
    },
    "kernelspec": {
      "name": "python3",
      "display_name": "Python 3"
    },
    "language_info": {
      "name": "python"
    }
  },
  "cells": [
    {
      "cell_type": "markdown",
      "metadata": {
        "id": "view-in-github",
        "colab_type": "text"
      },
      "source": [
        "<a href=\"https://colab.research.google.com/github/Sachin-0231/Infosys-Summer-Training-Program-on-Python/blob/main/Quiz_and_Exercise_Dictionary_solution.ipynb\" target=\"_parent\"><img src=\"https://colab.research.google.com/assets/colab-badge.svg\" alt=\"Open In Colab\"/></a>"
      ]
    },
    {
      "cell_type": "markdown",
      "source": [
        "##Q1 of 2\n",
        "\n",
        "What is the output of the following code snippet?\n",
        "```\n",
        "sample_dict = {'a':1,'b':2}\n",
        "sample_dict.update({'b':5, 'c':10 })\n",
        "print(sample_dict.get('b'), sample_dict.get('c'))\n",
        " ```\n",
        "\n",
        "<br>**5,10**\n",
        "<br>2 None\n",
        "<br>2 10\n",
        "<br>5 None"
      ],
      "metadata": {
        "id": "8tgjzHFWxuwy"
      }
    },
    {
      "cell_type": "markdown",
      "source": [
        "##Q2 of 2\n",
        "\n",
        "Assume that a dictionary has data in the form of { key1:value1, key2:value2…}\n",
        "```\n",
        "my_library =\n",
        "{\n",
        "    103 : \"Alice in Wonderland\",\n",
        "    104 : \"The Turning Point\",\n",
        "    113 : \"Wings on Fire\",\n",
        "    134 : \"Harry Potter\"\n",
        "}\n",
        "```\n",
        "What do you think my_library[104] would point to ?\n",
        "\n",
        "104\n",
        "<br>This is a dictionary and not a list, you cant do that!\n",
        "<br>**The Turning Point**\n",
        "<br>There are only 4 elements here, what on earth are you calling index 104 for"
      ],
      "metadata": {
        "id": "_12yhzvHyJMZ"
      }
    },
    {
      "cell_type": "markdown",
      "source": [
        "#Exercise on Dictionary - Level 1"
      ],
      "metadata": {
        "id": "9ShVqQEcyu-w"
      }
    },
    {
      "cell_type": "markdown",
      "source": [
        "##Problem Statement\n",
        "Represent a small bilingual (English-Swedish) glossary given below as a Python dictionary\n",
        "\n",
        "{\"merry\":\"god\", \"christmas\":\"jul\", \"and\":\"och\", \"happy\":\"gott\", \"new\":\"nytt\", \"year\":\"ar\"}\n",
        "\n",
        "and use it to translate your Christmas wishes from English into Swedish.\n",
        "\n",
        "That is, write a python function translate() that accepts the bilingual dictionary and a list of English words (your Christmas wish) and returns a list of equivalent Swedish words."
      ],
      "metadata": {
        "id": "FPrmzWGRy1RV"
      }
    },
    {
      "cell_type": "code",
      "source": [
        "#lex_auth_012693774187716608134\n",
        "\n",
        "def translate(bilingual_dict,english_words_list):\n",
        "    #Write your logic here\n",
        "    swedish_words_list = list()\n",
        "    for i in english_words_list:\n",
        "        swedish_words_list.append(bilingual_dict[i])\n",
        "    return swedish_words_list\n",
        "\n",
        "\n",
        "bilingual_dict= {\"merry\":\"god\", \"christmas\":\"jul\", \"and\":\"och\", \"happy\":\"gott\", \"new\":\"nytt\", \"year\":\"ar\"}\n",
        "english_words_list=[\"merry\",\"christmas\"]\n",
        "print(\"The bilingual dict is:\",bilingual_dict)\n",
        "print(\"The english words are:\",english_words_list)\n",
        "\n",
        "swedish_words_list=translate(bilingual_dict, english_words_list)\n",
        "print(\"The equivalent swedish words are:\",swedish_words_list)"
      ],
      "metadata": {
        "id": "IQTFiZIqzLqh"
      },
      "execution_count": null,
      "outputs": []
    }
  ]
}