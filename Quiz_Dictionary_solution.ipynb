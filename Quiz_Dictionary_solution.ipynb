{
  "nbformat": 4,
  "nbformat_minor": 0,
  "metadata": {
    "colab": {
      "provenance": [],
      "authorship_tag": "ABX9TyN2b0dCnd8Q93eirIWbulq5"
    },
    "kernelspec": {
      "name": "python3",
      "display_name": "Python 3"
    },
    "language_info": {
      "name": "python"
    }
  },
  "cells": [
    {
      "cell_type": "markdown",
      "source": [
        "##Q1 of 2\n",
        "\n",
        "What is the output of the following code snippet?\n",
        "```\n",
        "sample_dict = {'a':1,'b':2}\n",
        "sample_dict.update({'b':5, 'c':10 })\n",
        "print(sample_dict.get('b'), sample_dict.get('c'))\n",
        " ```\n",
        "\n",
        "<br>**5,10**\n",
        "<br>2 None\n",
        "<br>2 10\n",
        "<br>5 None"
      ],
      "metadata": {
        "id": "8tgjzHFWxuwy"
      }
    },
    {
      "cell_type": "markdown",
      "source": [
        "##Q2 of 2\n",
        "\n",
        "Assume that a dictionary has data in the form of { key1:value1, key2:value2…}\n",
        "```\n",
        "my_library =\n",
        "{\n",
        "    103 : \"Alice in Wonderland\",\n",
        "    104 : \"The Turning Point\",\n",
        "    113 : \"Wings on Fire\",\n",
        "    134 : \"Harry Potter\"\n",
        "}\n",
        "```\n",
        "What do you think my_library[104] would point to ?\n",
        "\n",
        "104\n",
        "<br>This is a dictionary and not a list, you cant do that!\n",
        "<br>**The Turning Point**\n",
        "<br>There are only 4 elements here, what on earth are you calling index 104 for"
      ],
      "metadata": {
        "id": "_12yhzvHyJMZ"
      }
    }
  ]
}