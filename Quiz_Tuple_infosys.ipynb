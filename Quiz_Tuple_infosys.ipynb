{
  "nbformat": 4,
  "nbformat_minor": 0,
  "metadata": {
    "colab": {
      "provenance": [],
      "authorship_tag": "ABX9TyPQqvaVR9taFovRHkWYoowf",
      "include_colab_link": true
    },
    "kernelspec": {
      "name": "python3",
      "display_name": "Python 3"
    },
    "language_info": {
      "name": "python"
    }
  },
  "cells": [
    {
      "cell_type": "markdown",
      "metadata": {
        "id": "view-in-github",
        "colab_type": "text"
      },
      "source": [
        "<a href=\"https://colab.research.google.com/github/Sachin-0231/Infosys-Summer-Training-Program-on-Python/blob/main/Quiz_Tuple_infosys.ipynb\" target=\"_parent\"><img src=\"https://colab.research.google.com/assets/colab-badge.svg\" alt=\"Open In Colab\"/></a>"
      ]
    },
    {
      "cell_type": "markdown",
      "source": [
        "#Q1 of 1\n",
        "\n",
        "Which among the following statements may result in an error?\n",
        "\n",
        "Assume that the statements are executed in the order in which it is written.\n",
        "````\n",
        "a. tuple1=(5,10,15,20,25)\n",
        "b. print(len(tuple1))\n",
        "c. tuple1[2]=100\n",
        "d. print(tuple1[5])\n",
        "e. tuple1=tuple1+(8,9,\"h\")\n",
        "````\n",
        "<br>e\n",
        "<br>d\n",
        "<br>d and e\n",
        "<br> **c and d**"
      ],
      "metadata": {
        "id": "0-YZEttwzVLr"
      }
    }
  ]
}